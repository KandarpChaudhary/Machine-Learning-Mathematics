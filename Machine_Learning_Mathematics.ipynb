{
 "cells": [
  {
   "cell_type": "markdown",
   "id": "9b1f9b74",
   "metadata": {},
   "source": [
    "**Name: Kandarp Chaudhary**\n",
    "\n",
    "**Roll No.: D21016**"
   ]
  },
  {
   "cell_type": "markdown",
   "id": "b1dca9b5",
   "metadata": {},
   "source": [
    "## <a id='0'>Index</a>\n",
    "1) <b>[Vectors:](#0)</b>\n",
    "\n",
    "[(a)Creating a vector](#1)\n",
    "\n",
    "[(b)Vector addition, subtraction & scalar multiplication](#3)\n",
    "\n",
    "[(c)Unit vector](#2)\n",
    "\n",
    "[(d)Vector Dot Product, Cross Product](#4)\n",
    "\n",
    "2) <b>[Matrix:](#5)</b>\n",
    "\n",
    "[(a)Creating a matrix](#6)\n",
    "\n",
    "[(b)Matrix Transpose](#7)\n",
    "\n",
    "[(c)Matrix addition, subtraction & scalar multiplication](#8)\n",
    "\n",
    "[(d)Matrix multiplication](#9)\n",
    "\n",
    "[(e)Determinant of a matrix](#10)\n",
    "\n",
    "[(f)Minor and cofactor of a matrix](#11)\n",
    "\n",
    "[(g)Adjoint of a matrix](#12)\n",
    "\n",
    "[(h)Inverse of a matrix](#13)\n",
    "\n",
    "[(i)REF and RREF of a matrix](#14)\n",
    "\n",
    "[(j)Rank of a Matrix](#15)\n",
    "\n",
    "3) <b>[Solving linear equations](#18)</b>\n",
    "\n",
    "4) <b>[Projection of vector u along vector v](#19)</b>\n",
    "\n",
    "5) <b>[Checking vector independence](#20)</b>\n",
    "\n",
    "6) <b>[Span](#21)</b>\n",
    "\n",
    "7) <b>[Change of Basis system](#23)</b>\n",
    "\n",
    "8) <b>[Norm of a vector](#24)</b>\n",
    "\n",
    "9) <b>[Eigen Values & Eigen Vector](#25)</b>\n",
    "\n",
    "10) <b>[Principle Component Analysis](#26)</b>\n",
    "\n",
    "11) <b>[LU Decomposition](#31)</b>\n",
    "\n",
    "12) <b>[Differentiation](#27)</b>\n",
    "\n",
    "13) <b>[Partial Differentiation](#28)</b>\n",
    "\n",
    "14) <b>[Lagrange Multiplier](#32)</b>\n",
    "\n",
    "15) <b>[Gradient Descent](#29)</b>\n",
    "\n",
    "16) <b>[Newton's Function](#30)</b>\n",
    "\n",
    "17) <b>[Null Space, Row Space & Column Space](#33)</b>\n",
    "\n",
    "18) <b>[Jacobian Matrix & Determinant](#34)</b>"
   ]
  },
  {
   "cell_type": "code",
   "execution_count": 1,
   "id": "4f17ec50",
   "metadata": {},
   "outputs": [],
   "source": [
    "import numpy as np\n",
    "import pandas as pd\n",
    "import scipy as sp\n",
    "from scipy.linalg import lu\n",
    "import sympy\n",
    "import sklearn"
   ]
  },
  {
   "cell_type": "markdown",
   "id": "fe2e41f2",
   "metadata": {},
   "source": [
    "<a id='0' style=\"font-size: 28px\">1) Vectors: </a>"
   ]
  },
  {
   "cell_type": "markdown",
   "id": "904aa497",
   "metadata": {},
   "source": [
    "<a id='1' style=\"font-size: 24px\">(a)Creating a vector </a>"
   ]
  },
  {
   "cell_type": "code",
   "execution_count": 2,
   "id": "980eb2c9",
   "metadata": {},
   "outputs": [
    {
     "name": "stdout",
     "output_type": "stream",
     "text": [
      "[1 2 3]\n"
     ]
    }
   ],
   "source": [
    "#creating a vector\n",
    "A = np.array([1,2,3])\n",
    "print(A)"
   ]
  },
  {
   "cell_type": "code",
   "execution_count": 3,
   "id": "edc95f7f",
   "metadata": {},
   "outputs": [
    {
     "data": {
      "text/plain": [
       "array([4., 5., 6.])"
      ]
     },
     "execution_count": 3,
     "metadata": {},
     "output_type": "execute_result"
    }
   ],
   "source": [
    "B = np.linspace(4,6,3)\n",
    "B"
   ]
  },
  {
   "cell_type": "code",
   "execution_count": 4,
   "id": "7ceac91a",
   "metadata": {},
   "outputs": [
    {
     "data": {
      "text/plain": [
       "array([0, 1, 2, 3])"
      ]
     },
     "execution_count": 4,
     "metadata": {},
     "output_type": "execute_result"
    }
   ],
   "source": [
    "D = np.arange(4)\n",
    "D"
   ]
  },
  {
   "cell_type": "code",
   "execution_count": 5,
   "id": "03ec10ba",
   "metadata": {},
   "outputs": [
    {
     "data": {
      "text/plain": [
       "array([1, 3, 5, 7])"
      ]
     },
     "execution_count": 5,
     "metadata": {},
     "output_type": "execute_result"
    }
   ],
   "source": [
    "E = np.arange(1,9,2)\n",
    "E"
   ]
  },
  {
   "cell_type": "code",
   "execution_count": 6,
   "id": "c8303729",
   "metadata": {},
   "outputs": [
    {
     "data": {
      "text/plain": [
       "3.7416573867739413"
      ]
     },
     "execution_count": 6,
     "metadata": {},
     "output_type": "execute_result"
    }
   ],
   "source": [
    "#Magnitude of a vector\n",
    "m = (A[0]**2+A[1]**2+A[2]**2)**0.5\n",
    "m"
   ]
  },
  {
   "cell_type": "markdown",
   "id": "6c7a9d3c",
   "metadata": {},
   "source": [
    "[Go to Index](#0)"
   ]
  },
  {
   "cell_type": "markdown",
   "id": "5c4e6640",
   "metadata": {},
   "source": [
    "<a id='3' style=\"font-size: 24px\">(b) Vector addition, subtraction & scalar multiplication </a>"
   ]
  },
  {
   "cell_type": "code",
   "execution_count": 7,
   "id": "5880238c",
   "metadata": {},
   "outputs": [
    {
     "data": {
      "text/plain": [
       "array([5., 7., 9.])"
      ]
     },
     "execution_count": 7,
     "metadata": {},
     "output_type": "execute_result"
    }
   ],
   "source": [
    "#vector addition\n",
    "C = np.empty(3)\n",
    "C = A+B\n",
    "C"
   ]
  },
  {
   "cell_type": "code",
   "execution_count": 8,
   "id": "a259b412",
   "metadata": {},
   "outputs": [
    {
     "data": {
      "text/plain": [
       "array([-3., -3., -3.])"
      ]
     },
     "execution_count": 8,
     "metadata": {},
     "output_type": "execute_result"
    }
   ],
   "source": [
    "#vector subtraction\n",
    "C = A-B\n",
    "C"
   ]
  },
  {
   "cell_type": "code",
   "execution_count": 9,
   "id": "d267b54b",
   "metadata": {},
   "outputs": [
    {
     "data": {
      "text/plain": [
       "array([ 4,  8, 12])"
      ]
     },
     "execution_count": 9,
     "metadata": {},
     "output_type": "execute_result"
    }
   ],
   "source": [
    "#vector scalar multiplication\n",
    "C = 4*A\n",
    "C"
   ]
  },
  {
   "cell_type": "markdown",
   "id": "a04b7721",
   "metadata": {},
   "source": [
    "[Go to Index](#0)"
   ]
  },
  {
   "cell_type": "markdown",
   "id": "8700e45c",
   "metadata": {},
   "source": [
    "<a id='2' style=\"font-size: 24px\">(c) Unit vector </a>"
   ]
  },
  {
   "cell_type": "code",
   "execution_count": 10,
   "id": "23694297",
   "metadata": {},
   "outputs": [
    {
     "data": {
      "text/plain": [
       "array([0.26726124, 0.53452248, 0.80178373])"
      ]
     },
     "execution_count": 10,
     "metadata": {},
     "output_type": "execute_result"
    }
   ],
   "source": [
    "#Unit Vector = Vector/Magnitude\n",
    "u = A/m\n",
    "u"
   ]
  },
  {
   "cell_type": "markdown",
   "id": "faf44316",
   "metadata": {},
   "source": [
    "[Go to Index](#0)"
   ]
  },
  {
   "cell_type": "markdown",
   "id": "55e5cec7",
   "metadata": {},
   "source": [
    "<a id='4' style=\"font-size: 24px\">(d) Vector Dot Product, Cross Product </a>"
   ]
  },
  {
   "cell_type": "code",
   "execution_count": 11,
   "id": "b39e24a0",
   "metadata": {},
   "outputs": [
    {
     "data": {
      "text/plain": [
       "32.0"
      ]
     },
     "execution_count": 11,
     "metadata": {},
     "output_type": "execute_result"
    }
   ],
   "source": [
    "#dot product of two vectors\n",
    "np.dot(A,B)"
   ]
  },
  {
   "cell_type": "code",
   "execution_count": 12,
   "id": "82ec9a16",
   "metadata": {},
   "outputs": [
    {
     "data": {
      "text/plain": [
       "array([-3.,  6., -3.])"
      ]
     },
     "execution_count": 12,
     "metadata": {},
     "output_type": "execute_result"
    }
   ],
   "source": [
    "#cross product of two vectors\n",
    "np.cross(A,B)"
   ]
  },
  {
   "cell_type": "markdown",
   "id": "84052b9b",
   "metadata": {},
   "source": [
    "[Go to Index](#0)"
   ]
  },
  {
   "cell_type": "markdown",
   "id": "1ebc9a21",
   "metadata": {},
   "source": [
    "<a id='5' style=\"font-size: 28px\">2) Matrix: </a>"
   ]
  },
  {
   "cell_type": "markdown",
   "id": "6105ef24",
   "metadata": {},
   "source": [
    "<a id='6' style=\"font-size: 24px\">(a) Creating a matrix </a>"
   ]
  },
  {
   "cell_type": "code",
   "execution_count": 13,
   "id": "3665f136",
   "metadata": {
    "scrolled": true
   },
   "outputs": [
    {
     "data": {
      "text/plain": [
       "array([[0.36990182, 0.29930339, 0.85648011],\n",
       "       [0.22528178, 0.09058959, 0.70959671],\n",
       "       [0.18723783, 0.83258471, 0.55033684]])"
      ]
     },
     "execution_count": 13,
     "metadata": {},
     "output_type": "execute_result"
    }
   ],
   "source": [
    "#creating a 3x3 matrix\n",
    "y = np.random.random((3,3))\n",
    "y"
   ]
  },
  {
   "cell_type": "code",
   "execution_count": 14,
   "id": "c2155dad",
   "metadata": {},
   "outputs": [
    {
     "data": {
      "text/plain": [
       "array([[-0.26587509, -1.14401335, -0.37850864],\n",
       "       [-0.00915769,  2.15181503, -1.09178681],\n",
       "       [ 0.04244757,  0.17718821, -1.10699718]])"
      ]
     },
     "execution_count": 14,
     "metadata": {},
     "output_type": "execute_result"
    }
   ],
   "source": [
    "#creating a 3x3 matrix\n",
    "np.random.normal(0,1,(3,3))"
   ]
  },
  {
   "cell_type": "code",
   "execution_count": 15,
   "id": "d0c2e756",
   "metadata": {},
   "outputs": [
    {
     "data": {
      "text/plain": [
       "array([[1, 2, 3],\n",
       "       [4, 5, 6],\n",
       "       [7, 8, 9]])"
      ]
     },
     "execution_count": 15,
     "metadata": {},
     "output_type": "execute_result"
    }
   ],
   "source": [
    "#creating a 3x3 matrix\n",
    "x = np.array([[1,2,3],[4,5,6],[7,8,9]])\n",
    "x"
   ]
  },
  {
   "cell_type": "code",
   "execution_count": 16,
   "id": "ec375ff7",
   "metadata": {},
   "outputs": [
    {
     "data": {
      "text/plain": [
       "7"
      ]
     },
     "execution_count": 16,
     "metadata": {},
     "output_type": "execute_result"
    }
   ],
   "source": [
    "#selecting an element of matrix. Indexing starts from 0\n",
    "x[2,0]"
   ]
  },
  {
   "cell_type": "code",
   "execution_count": 17,
   "id": "8453a0dc",
   "metadata": {},
   "outputs": [
    {
     "data": {
      "text/plain": [
       "array([2, 5, 8])"
      ]
     },
     "execution_count": 17,
     "metadata": {},
     "output_type": "execute_result"
    }
   ],
   "source": [
    "#selecting a column of matrix\n",
    "x[:,1]"
   ]
  },
  {
   "cell_type": "code",
   "execution_count": 18,
   "id": "da7254e5",
   "metadata": {},
   "outputs": [
    {
     "data": {
      "text/plain": [
       "array([4, 5, 6])"
      ]
     },
     "execution_count": 18,
     "metadata": {},
     "output_type": "execute_result"
    }
   ],
   "source": [
    "#selecting a row of matrix\n",
    "y = x[1,:]\n",
    "y"
   ]
  },
  {
   "cell_type": "code",
   "execution_count": 19,
   "id": "1e043521",
   "metadata": {},
   "outputs": [
    {
     "data": {
      "text/plain": [
       "array([-4,  5,  6])"
      ]
     },
     "execution_count": 19,
     "metadata": {},
     "output_type": "execute_result"
    }
   ],
   "source": [
    "y[0] = -4 # this also changes the corresponding element in x\n",
    "y"
   ]
  },
  {
   "cell_type": "code",
   "execution_count": 20,
   "id": "15900a00",
   "metadata": {
    "scrolled": true
   },
   "outputs": [
    {
     "data": {
      "text/plain": [
       "array([[ 1,  2,  3],\n",
       "       [-4,  5,  6],\n",
       "       [ 7,  8,  9]])"
      ]
     },
     "execution_count": 20,
     "metadata": {},
     "output_type": "execute_result"
    }
   ],
   "source": [
    "x"
   ]
  },
  {
   "cell_type": "markdown",
   "id": "a77ca5af",
   "metadata": {},
   "source": [
    "[Go to Index](#0)"
   ]
  },
  {
   "cell_type": "markdown",
   "id": "4945203a",
   "metadata": {},
   "source": [
    "<a id='7' style=\"font-size: 24px\">(b) Matrix Transpose </a>"
   ]
  },
  {
   "cell_type": "code",
   "execution_count": 21,
   "id": "1c506eae",
   "metadata": {},
   "outputs": [
    {
     "data": {
      "text/plain": [
       "array([[ 1, -4,  7],\n",
       "       [ 2,  5,  8],\n",
       "       [ 3,  6,  9]])"
      ]
     },
     "execution_count": 21,
     "metadata": {},
     "output_type": "execute_result"
    }
   ],
   "source": [
    "#finding transpose of a matrix\n",
    "xt = np.transpose(x)\n",
    "xt"
   ]
  },
  {
   "cell_type": "markdown",
   "id": "60e2de9f",
   "metadata": {},
   "source": [
    "[Go to Index](#0)"
   ]
  },
  {
   "cell_type": "markdown",
   "id": "0aacb16a",
   "metadata": {},
   "source": [
    "<a id='8' style=\"font-size: 24px\">(c) Matrix addition, subtraction & scalar multiplication </a>"
   ]
  },
  {
   "cell_type": "code",
   "execution_count": 22,
   "id": "a78200c4",
   "metadata": {},
   "outputs": [
    {
     "data": {
      "text/plain": [
       "array([[ 2, -2, 10],\n",
       "       [-2, 10, 14],\n",
       "       [10, 14, 18]])"
      ]
     },
     "execution_count": 22,
     "metadata": {},
     "output_type": "execute_result"
    }
   ],
   "source": [
    "#matrix addition\n",
    "x+xt"
   ]
  },
  {
   "cell_type": "code",
   "execution_count": 23,
   "id": "b3f1a985",
   "metadata": {},
   "outputs": [
    {
     "data": {
      "text/plain": [
       "array([[ 0,  6, -4],\n",
       "       [-6,  0, -2],\n",
       "       [ 4,  2,  0]])"
      ]
     },
     "execution_count": 23,
     "metadata": {},
     "output_type": "execute_result"
    }
   ],
   "source": [
    "#matrix subtraction\n",
    "x-xt"
   ]
  },
  {
   "cell_type": "markdown",
   "id": "f9d349c3",
   "metadata": {},
   "source": [
    "[Go to Index](#0)"
   ]
  },
  {
   "cell_type": "markdown",
   "id": "3cdf8bd4",
   "metadata": {},
   "source": [
    "<a id='9' style=\"font-size: 24px\">(d) Matrix multiplication </a>"
   ]
  },
  {
   "cell_type": "code",
   "execution_count": 24,
   "id": "3b8f8967",
   "metadata": {
    "scrolled": true
   },
   "outputs": [
    {
     "data": {
      "text/plain": [
       "array([[ 14,  24,  50],\n",
       "       [ 24,  77,  66],\n",
       "       [ 50,  66, 194]])"
      ]
     },
     "execution_count": 24,
     "metadata": {},
     "output_type": "execute_result"
    }
   ],
   "source": [
    "np.matmul(x,xt)"
   ]
  },
  {
   "cell_type": "markdown",
   "id": "bde1c7c8",
   "metadata": {},
   "source": [
    "[Go to Index](#0)"
   ]
  },
  {
   "cell_type": "markdown",
   "id": "9a18922b",
   "metadata": {},
   "source": [
    "<a id='10' style=\"font-size: 24px\">(e) Determinant of a matrix </a>"
   ]
  },
  {
   "cell_type": "code",
   "execution_count": 25,
   "id": "7c43cc79",
   "metadata": {},
   "outputs": [
    {
     "data": {
      "text/plain": [
       "-6.0"
      ]
     },
     "execution_count": 25,
     "metadata": {},
     "output_type": "execute_result"
    }
   ],
   "source": [
    "#finding determinant of a matrix\n",
    "f = np.array([[1,2,3],[0,1,2],[1,4,1]])\n",
    "np.linalg.det(f)"
   ]
  },
  {
   "cell_type": "code",
   "execution_count": 26,
   "id": "cb7122e8",
   "metadata": {},
   "outputs": [
    {
     "data": {
      "text/plain": [
       "-6.000000000000001"
      ]
     },
     "execution_count": 26,
     "metadata": {},
     "output_type": "execute_result"
    }
   ],
   "source": [
    "#finding determinant of a transpose matrix\n",
    "np.linalg.det(np.transpose(f))"
   ]
  },
  {
   "cell_type": "markdown",
   "id": "f17f033b",
   "metadata": {},
   "source": [
    "[Go to Index](#0)"
   ]
  },
  {
   "cell_type": "markdown",
   "id": "b9017bbb",
   "metadata": {},
   "source": [
    "<a id='11' style=\"font-size: 24px\">(f) Minor and cofactor of a matrix </a>"
   ]
  },
  {
   "cell_type": "code",
   "execution_count": 27,
   "id": "3d94baaf",
   "metadata": {
    "scrolled": true
   },
   "outputs": [
    {
     "name": "stdout",
     "output_type": "stream",
     "text": [
      "[[1 2]\n",
      " [4 1]] = M00\n",
      "[[0 2]\n",
      " [1 1]] = M01\n",
      "[[0 1]\n",
      " [1 4]] = M02\n",
      "[[2 3]\n",
      " [4 1]] = M10\n",
      "[[1 3]\n",
      " [1 1]] = M11\n",
      "[[1 2]\n",
      " [1 4]] = M12\n",
      "[[2 3]\n",
      " [1 2]] = M20\n",
      "[[1 3]\n",
      " [0 2]] = M21\n",
      "[[1 2]\n",
      " [0 1]] = M22\n",
      "[ -7.  -2.  -1. -10.  -2.   2.   1.   2.   1.]\n",
      "[ 1 -1  1 -1  1 -1  1 -1  1]\n"
     ]
    }
   ],
   "source": [
    "#user defined function to find out minor of 'arr' matrix's i row and j row element\n",
    "def matrix_minor(arr, i, j):\n",
    "    return np.delete(np.delete(arr,i,axis=0), j, axis=1)\n",
    "\n",
    "c0 = 0\n",
    "M = []\n",
    "C = []\n",
    "while c0 < len(f):\n",
    "    c1 = 0\n",
    "    while c1<len(f[0]):\n",
    "        Mij = matrix_minor(f,c0,c1)    #Minor of f[c0,c1]\n",
    "        Cij = (-1)**(c0+c1)            #Co-efficient of |Mij|\n",
    "        print(Mij, \"= M%d%d\" %(c0,c1))\n",
    "        M.append(np.linalg.det(Mij))\n",
    "        C.append(Cij)\n",
    "        c1+=1\n",
    "    c0+=1\n",
    "M = np.array(M)\n",
    "C = np.array(C)\n",
    "print(M)\n",
    "print(C)"
   ]
  },
  {
   "cell_type": "markdown",
   "id": "87049dde",
   "metadata": {},
   "source": [
    "[Go to Index](#0)"
   ]
  },
  {
   "cell_type": "markdown",
   "id": "6dc36831",
   "metadata": {},
   "source": [
    "<a id='12' style=\"font-size: 24px\">(g) Adjoint of a matrix </a>"
   ]
  },
  {
   "cell_type": "code",
   "execution_count": 28,
   "id": "9b67ce1f",
   "metadata": {
    "scrolled": true
   },
   "outputs": [
    {
     "data": {
      "text/plain": [
       "array([[-7., 10.,  1.],\n",
       "       [ 2., -2., -2.],\n",
       "       [-1., -2.,  1.]])"
      ]
     },
     "execution_count": 28,
     "metadata": {},
     "output_type": "execute_result"
    }
   ],
   "source": [
    "#finding adjoint of a Matrix\n",
    "Cofactor = M*C                                 #Co-factor array\n",
    "Adjoint = np.transpose(Cofactor.reshape(3,3))\n",
    "Adjoint"
   ]
  },
  {
   "cell_type": "code",
   "execution_count": 29,
   "id": "50673592",
   "metadata": {
    "scrolled": true
   },
   "outputs": [
    {
     "data": {
      "text/plain": [
       "array([[-7., 10.,  1.],\n",
       "       [ 2., -2., -2.],\n",
       "       [-1., -2.,  1.]])"
      ]
     },
     "execution_count": 29,
     "metadata": {},
     "output_type": "execute_result"
    }
   ],
   "source": [
    "#finding adjoint of a Matrix\n",
    "np.linalg.inv(f)*np.linalg.det(f)"
   ]
  },
  {
   "cell_type": "markdown",
   "id": "85da85b3",
   "metadata": {},
   "source": [
    "[Go to Index](#0)"
   ]
  },
  {
   "cell_type": "markdown",
   "id": "59456c65",
   "metadata": {},
   "source": [
    "<a id='13' style=\"font-size: 24px\">(h) Inverse of a matrix </a>"
   ]
  },
  {
   "cell_type": "code",
   "execution_count": 30,
   "id": "1f7a925d",
   "metadata": {},
   "outputs": [
    {
     "data": {
      "text/plain": [
       "array([[ 1.16666667, -1.66666667, -0.16666667],\n",
       "       [-0.33333333,  0.33333333,  0.33333333],\n",
       "       [ 0.16666667,  0.33333333, -0.16666667]])"
      ]
     },
     "execution_count": 30,
     "metadata": {},
     "output_type": "execute_result"
    }
   ],
   "source": [
    "#finding inverse of a matrix as per definition\n",
    "invf = np.linalg.det(f)**(-1) * Adjoint\n",
    "invf"
   ]
  },
  {
   "cell_type": "code",
   "execution_count": 31,
   "id": "a3757ed8",
   "metadata": {},
   "outputs": [
    {
     "data": {
      "text/plain": [
       "array([[ 1.16666667, -1.66666667, -0.16666667],\n",
       "       [-0.33333333,  0.33333333,  0.33333333],\n",
       "       [ 0.16666667,  0.33333333, -0.16666667]])"
      ]
     },
     "execution_count": 31,
     "metadata": {},
     "output_type": "execute_result"
    }
   ],
   "source": [
    "#finding inverse of a matrix\n",
    "y = np.linalg.inv(f)\n",
    "y"
   ]
  },
  {
   "cell_type": "code",
   "execution_count": 32,
   "id": "501c1237",
   "metadata": {},
   "outputs": [
    {
     "data": {
      "text/plain": [
       "array([[ 1.16666667, -1.66666667, -0.16666667],\n",
       "       [-0.33333333,  0.33333333,  0.33333333],\n",
       "       [ 0.16666667,  0.33333333, -0.16666667]])"
      ]
     },
     "execution_count": 32,
     "metadata": {},
     "output_type": "execute_result"
    }
   ],
   "source": [
    "#finding inverse of a matrix\n",
    "np.linalg.matrix_power(f,-1)"
   ]
  },
  {
   "cell_type": "code",
   "execution_count": 33,
   "id": "55b3f358",
   "metadata": {},
   "outputs": [
    {
     "data": {
      "text/plain": [
       "array([[ 1.00000000e+00, -4.44089210e-16,  0.00000000e+00],\n",
       "       [ 0.00000000e+00,  1.00000000e+00,  0.00000000e+00],\n",
       "       [-8.32667268e-17, -3.88578059e-16,  1.00000000e+00]])"
      ]
     },
     "execution_count": 33,
     "metadata": {},
     "output_type": "execute_result"
    }
   ],
   "source": [
    "# f*inverse(f) = I3 (3x3 Identity matrix)\n",
    "z = np.matmul(f,invf)\n",
    "z"
   ]
  },
  {
   "cell_type": "markdown",
   "id": "a63c1e58",
   "metadata": {},
   "source": [
    "[Go to Index](#0)"
   ]
  },
  {
   "cell_type": "markdown",
   "id": "7876a7a3",
   "metadata": {},
   "source": [
    "<a id='14' style=\"font-size: 24px\">(i) REF and RREF of a matrix </a>"
   ]
  },
  {
   "cell_type": "code",
   "execution_count": 34,
   "id": "5cac2519",
   "metadata": {},
   "outputs": [
    {
     "data": {
      "text/plain": [
       "(array([[ 1.,  0.],\n",
       "        [-1.,  1.]]),\n",
       " array([[1., 1.],\n",
       "        [0., 3.]]))"
      ]
     },
     "execution_count": 34,
     "metadata": {},
     "output_type": "execute_result"
    }
   ],
   "source": [
    "#finding row echolan form of matrix\n",
    "e = np.array([[1,1],[-1,2]])\n",
    "from scipy.linalg import lu\n",
    "lu(e, permute_l=True)"
   ]
  },
  {
   "cell_type": "code",
   "execution_count": 35,
   "id": "b886e73d",
   "metadata": {
    "scrolled": true
   },
   "outputs": [
    {
     "data": {
      "text/plain": [
       "(Matrix([\n",
       " [1, 0],\n",
       " [0, 1]]),\n",
       " (0, 1))"
      ]
     },
     "execution_count": 35,
     "metadata": {},
     "output_type": "execute_result"
    }
   ],
   "source": [
    "#finding reduced row echolan form of matrix\n",
    "sympy.Matrix(e).rref()"
   ]
  },
  {
   "cell_type": "markdown",
   "id": "ee9d363d",
   "metadata": {},
   "source": [
    "[Go to Index](#0)"
   ]
  },
  {
   "cell_type": "markdown",
   "id": "5d8e152c",
   "metadata": {},
   "source": [
    "<a id='15' style=\"font-size: 24px\">(j) Rank of a Matrix </a>"
   ]
  },
  {
   "cell_type": "code",
   "execution_count": 36,
   "id": "822408ed",
   "metadata": {},
   "outputs": [
    {
     "data": {
      "text/plain": [
       "3"
      ]
     },
     "execution_count": 36,
     "metadata": {},
     "output_type": "execute_result"
    }
   ],
   "source": [
    "#rank of a matrix\n",
    "np.linalg.matrix_rank(x)"
   ]
  },
  {
   "cell_type": "markdown",
   "id": "3fa045df",
   "metadata": {},
   "source": [
    "[Go to Index](#0)"
   ]
  },
  {
   "cell_type": "markdown",
   "id": "51aa7843",
   "metadata": {},
   "source": [
    "<a id='18' style=\"font-size: 28px\">3) Solving linear equations </a>"
   ]
  },
  {
   "cell_type": "code",
   "execution_count": 37,
   "id": "6a9fc1b4",
   "metadata": {},
   "outputs": [
    {
     "data": {
      "text/plain": [
       "array([-1.,  1.])"
      ]
     },
     "execution_count": 37,
     "metadata": {},
     "output_type": "execute_result"
    }
   ],
   "source": [
    "#Solve the system of equations x0 + 2 * x1 = 1 and 3 * x0 + 5 * x1 = 2:\n",
    "a = np.array([[1,2],[3,5]])\n",
    "b = np.array([1,2])\n",
    "c = np.linalg.solve(a,b)\n",
    "c"
   ]
  },
  {
   "cell_type": "code",
   "execution_count": 38,
   "id": "0a334b59",
   "metadata": {},
   "outputs": [
    {
     "data": {
      "text/plain": [
       "True"
      ]
     },
     "execution_count": 38,
     "metadata": {},
     "output_type": "execute_result"
    }
   ],
   "source": [
    "#checking if solution is correct or not\n",
    "np.allclose(np.dot(a,c),b)"
   ]
  },
  {
   "cell_type": "code",
   "execution_count": 39,
   "id": "4bf91ed7",
   "metadata": {},
   "outputs": [
    {
     "data": {
      "text/plain": [
       "array([-1.,  1.])"
      ]
     },
     "execution_count": 39,
     "metadata": {},
     "output_type": "execute_result"
    }
   ],
   "source": [
    "#Solve the system of equations x0 + 2 * x1 = 1 and 3 * x0 + 5 * x1 = 2:\n",
    "d = np.linalg.tensorsolve(a,b)\n",
    "d"
   ]
  },
  {
   "cell_type": "code",
   "execution_count": 40,
   "id": "8f8fb0b2",
   "metadata": {},
   "outputs": [
    {
     "data": {
      "text/plain": [
       "True"
      ]
     },
     "execution_count": 40,
     "metadata": {},
     "output_type": "execute_result"
    }
   ],
   "source": [
    "#checking if solution is correct or not\n",
    "np.allclose(np.dot(a,d),b)"
   ]
  },
  {
   "cell_type": "markdown",
   "id": "7501a49e",
   "metadata": {},
   "source": [
    "[Go to Index](#0)"
   ]
  },
  {
   "cell_type": "markdown",
   "id": "a794cfa7",
   "metadata": {},
   "source": [
    "<a id='19' style=\"font-size: 28px\">4) Projection of vector u along vector v </a>"
   ]
  },
  {
   "cell_type": "code",
   "execution_count": 41,
   "id": "d416acad",
   "metadata": {},
   "outputs": [
    {
     "data": {
      "text/plain": [
       "array([6., 0.])"
      ]
     },
     "execution_count": 41,
     "metadata": {},
     "output_type": "execute_result"
    }
   ],
   "source": [
    "#projection of vector a on vector b = (a·b / b·b) * b\n",
    "u = np.array([6,8])\n",
    "v = np.array([10,0])\n",
    "proj_of_u_on_v = (np.dot(u, v)/np.dot(v, v))*v\n",
    "proj_of_u_on_v"
   ]
  },
  {
   "cell_type": "markdown",
   "id": "99de8ac3",
   "metadata": {},
   "source": [
    "[Go to Index](#0)"
   ]
  },
  {
   "cell_type": "markdown",
   "id": "a1ba643e",
   "metadata": {},
   "source": [
    "<a id='20' style=\"font-size: 28px\">5) Checking vector independence </a>"
   ]
  },
  {
   "cell_type": "code",
   "execution_count": 42,
   "id": "ca33424d",
   "metadata": {},
   "outputs": [
    {
     "name": "stdout",
     "output_type": "stream",
     "text": [
      "D = -79.99999999999997\n",
      "E = 0\n"
     ]
    }
   ],
   "source": [
    "#Method-1: If Determinant of [u,v] matrix is not zero, then vectors are independent.\n",
    "D = np.array([u,v])\n",
    "print(\"D =\",np.linalg.det(D))\n",
    "\n",
    "#If Determinant of [u,v] matrix is zero, then vectors are dependent.\n",
    "E = np.array([u,5*u])\n",
    "print(\"E =\",int(np.linalg.det(E)))"
   ]
  },
  {
   "cell_type": "code",
   "execution_count": 43,
   "id": "e1d316ff",
   "metadata": {},
   "outputs": [
    {
     "data": {
      "text/plain": [
       "(Matrix([\n",
       " [1, 0],\n",
       " [0, 1],\n",
       " [0, 0]]),\n",
       " (0, 1))"
      ]
     },
     "execution_count": 43,
     "metadata": {},
     "output_type": "execute_result"
    }
   ],
   "source": [
    "#Method-2: If RREF of [u,v] matrix has non-zero rows, then vectors are independent.\n",
    "F = np.array([u,v,5*u])\n",
    "sympy.Matrix(F).rref()"
   ]
  },
  {
   "cell_type": "markdown",
   "id": "3eb47003",
   "metadata": {},
   "source": [
    "As the third row of RREF matrix consists of only zeros which means,\n",
    "i) one pair of vectors are a dependent vector or\n",
    "ii) third vector can be written as linear combination of other two vectors."
   ]
  },
  {
   "cell_type": "code",
   "execution_count": 44,
   "id": "28ffd3fa",
   "metadata": {},
   "outputs": [
    {
     "data": {
      "text/plain": [
       "(Matrix([\n",
       " [1, 0],\n",
       " [0, 1],\n",
       " [0, 0]]),\n",
       " (0, 1))"
      ]
     },
     "execution_count": 44,
     "metadata": {},
     "output_type": "execute_result"
    }
   ],
   "source": [
    "#ii) third vector can be written as linear combination of other two vectors, hence third row of RREF Matrix is zero.\n",
    "G = np.array([[1,1],[-1,2],[2,9]])\n",
    "sympy.Matrix(G).rref()"
   ]
  },
  {
   "cell_type": "markdown",
   "id": "1281c7cd",
   "metadata": {},
   "source": [
    "[Go to Index](#0)"
   ]
  },
  {
   "cell_type": "markdown",
   "id": "7619ccb7",
   "metadata": {},
   "source": [
    "<a id='21' style=\"font-size: 28px\">6) Span </a>"
   ]
  },
  {
   "cell_type": "code",
   "execution_count": 45,
   "id": "a5632724",
   "metadata": {},
   "outputs": [
    {
     "data": {
      "text/plain": [
       "(Matrix([\n",
       " [1, 0, -1],\n",
       " [0, 1,  2]]),\n",
       " (0, 1))"
      ]
     },
     "execution_count": 45,
     "metadata": {},
     "output_type": "execute_result"
    }
   ],
   "source": [
    "#Span of a single vector or a pair of dependent vector is a line(R^1).\n",
    "#If vectors are independent, then the span is R^(no. of independent vectors)\n",
    "H = np.array([[1,1,1],[1,2,3]])\n",
    "sympy.Matrix(H).rref()\n",
    "#this combination of vectors will span a R^2 (plane)"
   ]
  },
  {
   "cell_type": "code",
   "execution_count": 46,
   "id": "1fdf7d36",
   "metadata": {
    "scrolled": true
   },
   "outputs": [
    {
     "data": {
      "text/plain": [
       "(Matrix([\n",
       " [1, 0, 0],\n",
       " [0, 1, 0],\n",
       " [0, 0, 1],\n",
       " [0, 0, 0]]),\n",
       " (0, 1, 2))"
      ]
     },
     "execution_count": 46,
     "metadata": {},
     "output_type": "execute_result"
    }
   ],
   "source": [
    "H = np.array([[1,1,1],[1,2,3],[2,2,2],[5,5,-8]])\n",
    "sympy.Matrix(H).rref()\n",
    "#this combination of vectors will span a R^3 "
   ]
  },
  {
   "cell_type": "markdown",
   "id": "16b2c962",
   "metadata": {},
   "source": [
    "[Go to Index](#0)"
   ]
  },
  {
   "cell_type": "markdown",
   "id": "468c1b01",
   "metadata": {},
   "source": [
    "<a id='23' style=\"font-size: 28px\">7) Change of Basis system </a>\n",
    "\n",
    "<a href='http://www.inf.ed.ac.uk/teaching/courses/cg/lectures/cg3_2013.pdf'>Reference document</a> Refer page:9 for formulas"
   ]
  },
  {
   "cell_type": "code",
   "execution_count": 47,
   "id": "c3f93a20",
   "metadata": {},
   "outputs": [
    {
     "data": {
      "text/plain": [
       "array([ 0, -4])"
      ]
     },
     "execution_count": 47,
     "metadata": {},
     "output_type": "execute_result"
    }
   ],
   "source": [
    "#i) Translation of basis system\n",
    "u = np.array([6,8]) #vector-1 in basis system-a\n",
    "v = np.array([3,4]) #vector-1 in basis system-b\n",
    "diff = u-v          #calculates difference of origin's co-ordinate between basis system-a and system-b\n",
    "w = [3,0]           #vector-2 in basis system-a\n",
    "#Let x be vector-2 in basis system-b then,\n",
    "x = w-diff\n",
    "x"
   ]
  },
  {
   "cell_type": "code",
   "execution_count": 48,
   "id": "da441e73",
   "metadata": {},
   "outputs": [
    {
     "data": {
      "text/plain": [
       "array([1.5, 0. ])"
      ]
     },
     "execution_count": 48,
     "metadata": {},
     "output_type": "execute_result"
    }
   ],
   "source": [
    "#ii) Scaling of basis system while keeping origin at same place\n",
    "u = np.array([6,8]) #vector-1 in basis system-a\n",
    "v = np.array([3,4]) #vector-1 in basis system-b\n",
    "div = v/u           #calculates ratio of scaling from basis system-a to system-b\n",
    "w = [3,0]           #vector-2 in basis system-a\n",
    "#Let x be vector-2 in basis system-b then,\n",
    "x = div*w\n",
    "x"
   ]
  },
  {
   "cell_type": "code",
   "execution_count": 49,
   "id": "89e317e8",
   "metadata": {},
   "outputs": [
    {
     "data": {
      "text/plain": [
       "array([ 0.6, -0.8])"
      ]
     },
     "execution_count": 49,
     "metadata": {},
     "output_type": "execute_result"
    }
   ],
   "source": [
    "#iii) Rotating of basis system while keeping origin at same place and no scaling done\n",
    "u = np.array([6,8])  #vector-1 in basis system-a\n",
    "v = np.array([10,0]) #vector-1 in basis system-b\n",
    "angle = np.arctan(8/6)         #calculates ratio of scaling from basis system-a to system-b\n",
    "R = np.array([[np.cos(angle), np.sin(angle)],[-np.sin(angle),np.cos(angle)]]) #Rotation matrix for anticlockwise rotation\n",
    "w = [1,0]            #vector-2 in basis system-a\n",
    "#Let x be vector-2 in basis system-b then,\n",
    "x = np.matmul(R,w)\n",
    "x"
   ]
  },
  {
   "cell_type": "markdown",
   "id": "1903ba67",
   "metadata": {},
   "source": [
    "[Go to Index](#0)"
   ]
  },
  {
   "cell_type": "markdown",
   "id": "5678640a",
   "metadata": {},
   "source": [
    "<a id='24' style=\"font-size: 28px\">8) Norm of a vector:</a>"
   ]
  },
  {
   "cell_type": "code",
   "execution_count": 50,
   "id": "baa21804",
   "metadata": {
    "scrolled": true
   },
   "outputs": [
    {
     "data": {
      "text/plain": [
       "7.0"
      ]
     },
     "execution_count": 50,
     "metadata": {},
     "output_type": "execute_result"
    }
   ],
   "source": [
    "# calculating L1 norm of vector\n",
    "v = np.array([3,4])\n",
    "np.linalg.norm(v,1)"
   ]
  },
  {
   "cell_type": "code",
   "execution_count": 51,
   "id": "e6951d1d",
   "metadata": {},
   "outputs": [
    {
     "data": {
      "text/plain": [
       "5.0"
      ]
     },
     "execution_count": 51,
     "metadata": {},
     "output_type": "execute_result"
    }
   ],
   "source": [
    "# calculating L2 norm of vector\n",
    "np.linalg.norm(v,2)"
   ]
  },
  {
   "cell_type": "code",
   "execution_count": 52,
   "id": "75ecdfca",
   "metadata": {},
   "outputs": [
    {
     "data": {
      "text/plain": [
       "5.0"
      ]
     },
     "execution_count": 52,
     "metadata": {},
     "output_type": "execute_result"
    }
   ],
   "source": [
    "# calculating L2 norm of vector\n",
    "np.linalg.norm(v)"
   ]
  },
  {
   "cell_type": "code",
   "execution_count": 53,
   "id": "2a576316",
   "metadata": {},
   "outputs": [
    {
     "data": {
      "text/plain": [
       "4.497941445275415"
      ]
     },
     "execution_count": 53,
     "metadata": {},
     "output_type": "execute_result"
    }
   ],
   "source": [
    "# calculating L3 norm of vector\n",
    "np.linalg.norm(v,3)"
   ]
  },
  {
   "cell_type": "markdown",
   "id": "0c475372",
   "metadata": {},
   "source": [
    "[Go to Index](#0)"
   ]
  },
  {
   "cell_type": "markdown",
   "id": "08a55905",
   "metadata": {},
   "source": [
    "<a id='25' style=\"font-size: 28px\">9) Eigen Values & Eigen Vector:</a>"
   ]
  },
  {
   "cell_type": "code",
   "execution_count": 54,
   "id": "fb101b7d",
   "metadata": {},
   "outputs": [
    {
     "data": {
      "text/plain": [
       "matrix([[ 1, -1],\n",
       "        [-2,  0]])"
      ]
     },
     "execution_count": 54,
     "metadata": {},
     "output_type": "execute_result"
    }
   ],
   "source": [
    "A = np.matrix([[1,-1],[-2,0]])\n",
    "A"
   ]
  },
  {
   "cell_type": "code",
   "execution_count": 55,
   "id": "4931232b",
   "metadata": {
    "scrolled": true
   },
   "outputs": [
    {
     "data": {
      "text/plain": [
       "matrix([[1 - 1.0*lambda, -1],\n",
       "        [-2, -1.0*lambda]], dtype=object)"
      ]
     },
     "execution_count": 55,
     "metadata": {},
     "output_type": "execute_result"
    }
   ],
   "source": [
    "#finding [A-lambda*I]\n",
    "lam = sympy.Symbol('lambda')\n",
    "M = A-lam*np.identity(2)\n",
    "M"
   ]
  },
  {
   "cell_type": "code",
   "execution_count": 56,
   "id": "070544fb",
   "metadata": {},
   "outputs": [
    {
     "data": {
      "text/latex": [
       "$\\displaystyle - 1.0 \\lambda \\left(1 - 1.0 \\lambda\\right) - 2$"
      ],
      "text/plain": [
       "-1.0*lambda*(1 - 1.0*lambda) - 2"
      ]
     },
     "execution_count": 56,
     "metadata": {},
     "output_type": "execute_result"
    }
   ],
   "source": [
    "#|A-lambda*I|=0\n",
    "Eq = M[0,0]*M[1,1]-M[0,1]*M[1,0]\n",
    "Eq"
   ]
  },
  {
   "cell_type": "code",
   "execution_count": 57,
   "id": "7a91401f",
   "metadata": {
    "scrolled": true
   },
   "outputs": [
    {
     "data": {
      "text/plain": [
       "[-1.00000000000000, 2.00000000000000]"
      ]
     },
     "execution_count": 57,
     "metadata": {},
     "output_type": "execute_result"
    }
   ],
   "source": [
    "#Eigen values are roots of Eq\n",
    "Ev = sympy.solve(Eq,lam)\n",
    "Ev"
   ]
  },
  {
   "cell_type": "code",
   "execution_count": 58,
   "id": "02f81e0f",
   "metadata": {},
   "outputs": [
    {
     "data": {
      "text/plain": [
       "(array([ 2., -1.]),\n",
       " matrix([[ 0.70710678,  0.4472136 ],\n",
       "         [-0.70710678,  0.89442719]]))"
      ]
     },
     "execution_count": 58,
     "metadata": {},
     "output_type": "execute_result"
    }
   ],
   "source": [
    "ans = np.linalg.eig(A)\n",
    "ans"
   ]
  },
  {
   "cell_type": "markdown",
   "id": "6d5a079a",
   "metadata": {},
   "source": [
    "Checking whether A * v = lambda * v or not for lambda = 2:"
   ]
  },
  {
   "cell_type": "code",
   "execution_count": 59,
   "id": "2278f358",
   "metadata": {},
   "outputs": [
    {
     "data": {
      "text/plain": [
       "matrix([[ 1.41421356],\n",
       "        [-1.41421356]])"
      ]
     },
     "execution_count": 59,
     "metadata": {},
     "output_type": "execute_result"
    }
   ],
   "source": [
    "A = np.matrix([[1,-1],[-2,0]])\n",
    "v = np.matrix([0.70710678,-0.70710678])\n",
    "v = np.transpose(v)\n",
    "np.matmul(A,v)"
   ]
  },
  {
   "cell_type": "code",
   "execution_count": 60,
   "id": "4cf89594",
   "metadata": {},
   "outputs": [
    {
     "data": {
      "text/plain": [
       "matrix([[ 1.41421356],\n",
       "        [-1.41421356]])"
      ]
     },
     "execution_count": 60,
     "metadata": {},
     "output_type": "execute_result"
    }
   ],
   "source": [
    "lam = 2\n",
    "lam*v"
   ]
  },
  {
   "cell_type": "markdown",
   "id": "9516d903",
   "metadata": {},
   "source": [
    "Checking whether A * v = lambda * v or not for lambda = -1:"
   ]
  },
  {
   "cell_type": "code",
   "execution_count": 61,
   "id": "b2089d84",
   "metadata": {},
   "outputs": [
    {
     "data": {
      "text/plain": [
       "matrix([[-0.44721359],\n",
       "        [-0.8944272 ]])"
      ]
     },
     "execution_count": 61,
     "metadata": {},
     "output_type": "execute_result"
    }
   ],
   "source": [
    "A = np.matrix([[1,-1],[-2,0]])\n",
    "v = np.matrix([0.4472136,0.89442719])\n",
    "v = np.transpose(v)\n",
    "np.matmul(A,v)"
   ]
  },
  {
   "cell_type": "code",
   "execution_count": 62,
   "id": "1d4c57d3",
   "metadata": {},
   "outputs": [
    {
     "data": {
      "text/plain": [
       "matrix([[-0.4472136 ],\n",
       "        [-0.89442719]])"
      ]
     },
     "execution_count": 62,
     "metadata": {},
     "output_type": "execute_result"
    }
   ],
   "source": [
    "lam = -1\n",
    "lam*v"
   ]
  },
  {
   "cell_type": "markdown",
   "id": "f0735aac",
   "metadata": {},
   "source": [
    "Solving one more question:"
   ]
  },
  {
   "cell_type": "code",
   "execution_count": 63,
   "id": "1d653c64",
   "metadata": {},
   "outputs": [
    {
     "data": {
      "text/plain": [
       "array([ 8., -2.])"
      ]
     },
     "execution_count": 63,
     "metadata": {},
     "output_type": "execute_result"
    }
   ],
   "source": [
    "#getting eigen values\n",
    "A = np.array([[7,3],[3,-1]])\n",
    "ans = np.linalg.eigvals(A)\n",
    "ans"
   ]
  },
  {
   "cell_type": "code",
   "execution_count": 64,
   "id": "958a0fbf",
   "metadata": {
    "scrolled": true
   },
   "outputs": [
    {
     "data": {
      "text/plain": [
       "(array([ 8., -2.]),\n",
       " array([[ 0.9486833 , -0.31622777],\n",
       "        [ 0.31622777,  0.9486833 ]]))"
      ]
     },
     "execution_count": 64,
     "metadata": {},
     "output_type": "execute_result"
    }
   ],
   "source": [
    "#getting eigen values and eigen matrix\n",
    "ans = np.linalg.eig(A)\n",
    "ans"
   ]
  },
  {
   "cell_type": "markdown",
   "id": "91d5c501",
   "metadata": {},
   "source": [
    "[Go to Index](#0)"
   ]
  },
  {
   "cell_type": "markdown",
   "id": "30396ff7",
   "metadata": {},
   "source": [
    "<a id='26' style=\"font-size: 28px\">10) Principle Component Analysis:</a>"
   ]
  },
  {
   "cell_type": "code",
   "execution_count": 65,
   "id": "f13621cf",
   "metadata": {},
   "outputs": [],
   "source": [
    "D = np.array([[1 , 0.9 ],\n",
    "       [ 2 ,  2.2],\n",
    "       [ 3 ,  2.6]])\n",
    "A = np.transpose(D)[0]\n",
    "B = np.transpose(D)[1]\n",
    "#Step-1: Mean centred vactors\n",
    "mA = A - np.mean(A)\n",
    "mB = B - np.mean(B)"
   ]
  },
  {
   "cell_type": "code",
   "execution_count": 66,
   "id": "048b26c7",
   "metadata": {},
   "outputs": [
    {
     "data": {
      "text/plain": [
       "array([[1.  , 0.85],\n",
       "       [0.85, 0.79]])"
      ]
     },
     "execution_count": 66,
     "metadata": {},
     "output_type": "execute_result"
    }
   ],
   "source": [
    "#Step-2: Find Covariance matrix(CM) for mean centred vactors\n",
    "CM = np.cov(mA,mB)\n",
    "CM"
   ]
  },
  {
   "cell_type": "code",
   "execution_count": 67,
   "id": "102ae16c",
   "metadata": {
    "scrolled": true
   },
   "outputs": [
    {
     "name": "stdout",
     "output_type": "stream",
     "text": [
      "Eigen values: [1.75146074 0.03853926]\n",
      "Eigen vector:\n",
      " [[ 0.74919876 -0.66234524]\n",
      " [ 0.66234524  0.74919876]]\n"
     ]
    }
   ],
   "source": [
    "#Step-3: Get eigen values and eigen vector for CM\n",
    "x = np.linalg.eig(CM)\n",
    "print(\"Eigen values:\",x[0])\n",
    "print(\"Eigen vector:\\n\",x[1])\n",
    "#Total variance = 1+0.79 = 1.75146 + 0.03854 = 1.79"
   ]
  },
  {
   "cell_type": "code",
   "execution_count": 68,
   "id": "ba572695",
   "metadata": {
    "scrolled": true
   },
   "outputs": [
    {
     "name": "stdout",
     "output_type": "stream",
     "text": [
      "Dot product of Eigen vectors = 0.0\n",
      "\n",
      "Transpose of Eigen Matrix:\n",
      " [[ 0.74919876  0.66234524]\n",
      " [-0.66234524  0.74919876]]\n",
      "\n",
      "Inverse of Eigen Matrix:\n",
      " [[ 0.74919876  0.66234524]\n",
      " [-0.66234524  0.74919876]]\n"
     ]
    }
   ],
   "source": [
    "#Eigen vectors are orthonormal vectors (Mutually perpendicular and eigen matrix transpose= eigen matrix inverse)\n",
    "print(\"Dot product of Eigen vectors =\",np.dot(x[1][0],x[1][1]))\n",
    "print(\"\\nTranspose of Eigen Matrix:\\n\",np.transpose(x[1]))\n",
    "print(\"\\nInverse of Eigen Matrix:\\n\",np.linalg.inv(x[1]))"
   ]
  },
  {
   "cell_type": "code",
   "execution_count": 69,
   "id": "21585358",
   "metadata": {
    "scrolled": true
   },
   "outputs": [
    {
     "data": {
      "text/plain": [
       "array([[-1. , -1. ],\n",
       "       [ 0. ,  0.3],\n",
       "       [ 1. ,  0.7]])"
      ]
     },
     "execution_count": 69,
     "metadata": {},
     "output_type": "execute_result"
    }
   ],
   "source": [
    "#mean centered data set\n",
    "a = np.transpose(np.array([mA,mB]))\n",
    "a"
   ]
  },
  {
   "cell_type": "code",
   "execution_count": 70,
   "id": "baf474ab",
   "metadata": {
    "scrolled": true
   },
   "outputs": [
    {
     "data": {
      "text/plain": [
       "array([[-0.08685352, -0.19870357,  0.28555709],\n",
       "       [-1.411544  ,  0.22475963,  1.18678437]])"
      ]
     },
     "execution_count": 70,
     "metadata": {},
     "output_type": "execute_result"
    }
   ],
   "source": [
    "#Step-4: Projecting data to the Eigen basis\n",
    "v = np.matmul(a, np.linalg.inv(x[1]))\n",
    "v1 = np.transpose(v)\n",
    "v1"
   ]
  },
  {
   "cell_type": "code",
   "execution_count": 71,
   "id": "74aa8b7d",
   "metadata": {
    "scrolled": true
   },
   "outputs": [
    {
     "data": {
      "text/plain": [
       "array([[0.06428475, 0.20841586],\n",
       "       [0.20841586, 1.72571525]])"
      ]
     },
     "execution_count": 71,
     "metadata": {},
     "output_type": "execute_result"
    }
   ],
   "source": [
    "#checking covariance of transformed matrix\n",
    "cm = np.cov(v1[0],v1[1])\n",
    "cm"
   ]
  },
  {
   "cell_type": "code",
   "execution_count": 72,
   "id": "1f25b271",
   "metadata": {},
   "outputs": [
    {
     "data": {
      "text/plain": [
       "1.7899999999999998"
      ]
     },
     "execution_count": 72,
     "metadata": {},
     "output_type": "execute_result"
    }
   ],
   "source": [
    "#checking if total variance remains same as original data (1.79) or not\n",
    "cm[0,0]+cm[1,1]"
   ]
  },
  {
   "cell_type": "code",
   "execution_count": 73,
   "id": "4969071d",
   "metadata": {},
   "outputs": [
    {
     "data": {
      "text/plain": [
       "array([1.75146074, 0.03853926])"
      ]
     },
     "execution_count": 73,
     "metadata": {},
     "output_type": "execute_result"
    }
   ],
   "source": [
    "# Quadratic equation: (lambda)^2 - 1.79(lambda) + 0.0675\n",
    "evalues = np.roots([1,-1.79,0.0675])\n",
    "evalues"
   ]
  },
  {
   "cell_type": "code",
   "execution_count": 74,
   "id": "e081c3b6",
   "metadata": {},
   "outputs": [
    {
     "data": {
      "text/plain": [
       "array([[-0.75146074,  0.85      ],\n",
       "       [ 0.85      , -0.96146074]])"
      ]
     },
     "execution_count": 74,
     "metadata": {},
     "output_type": "execute_result"
    }
   ],
   "source": [
    "ev1 = CM - evalues[0]*np.identity(2)\n",
    "ev1"
   ]
  },
  {
   "cell_type": "code",
   "execution_count": 75,
   "id": "1135cc07",
   "metadata": {},
   "outputs": [
    {
     "name": "stdout",
     "output_type": "stream",
     "text": [
      "PCA Components:\n",
      " [[-0.74919876 -0.66234524]\n",
      " [-0.66234524  0.74919876]]\n",
      "\n",
      "PCA Variance:\n",
      " [1.75146074 0.03853926]\n",
      "PCA Variance Ratio:\n",
      " [0.97846969 0.02153031]\n"
     ]
    }
   ],
   "source": [
    "from sklearn.decomposition import PCA\n",
    "A = np.array([1,2,3])\n",
    "B = np.array([0.9,2.2,2.6])\n",
    "c = np.array([A,B])\n",
    "c = np.transpose(c)\n",
    "pca = PCA(n_components=2)\n",
    "pca.fit(c)\n",
    "print(\"PCA Components:\\n\",pca.components_)\n",
    "print(\"\\nPCA Variance:\\n\",pca.explained_variance_)\n",
    "print(\"PCA Variance Ratio:\\n\",pca.explained_variance_ratio_)"
   ]
  },
  {
   "cell_type": "code",
   "execution_count": 76,
   "id": "8f686749",
   "metadata": {},
   "outputs": [
    {
     "name": "stdout",
     "output_type": "stream",
     "text": [
      "PCA Components:\n",
      " [[-0.74919876 -0.66234524]\n",
      " [-0.66234524  0.74919876]]\n",
      "\n",
      "PCA Variance:\n",
      " [1.75146074 0.03853926]\n",
      "PCA Variance Ratio:\n",
      " [0.97846969 0.02153031]\n"
     ]
    }
   ],
   "source": [
    "from sklearn.decomposition import PCA\n",
    "A = np.array([-1,0,1])\n",
    "B = np.array([-1,0.3,0.7])\n",
    "c = np.array([A,B])\n",
    "c = np.transpose(c)\n",
    "pca = PCA(n_components=2)\n",
    "pca.fit(c)\n",
    "print(\"PCA Components:\\n\",pca.components_)\n",
    "print(\"\\nPCA Variance:\\n\",pca.explained_variance_)\n",
    "print(\"PCA Variance Ratio:\\n\",pca.explained_variance_ratio_)"
   ]
  },
  {
   "cell_type": "markdown",
   "id": "9160670d",
   "metadata": {},
   "source": [
    "[Go to Index](#0)"
   ]
  },
  {
   "cell_type": "markdown",
   "id": "455fe8c1",
   "metadata": {},
   "source": [
    "<a id='31' style=\"font-size: 28px\">11) LU Decomposition:</a>"
   ]
  },
  {
   "cell_type": "code",
   "execution_count": 77,
   "id": "a0caa361",
   "metadata": {},
   "outputs": [
    {
     "name": "stdout",
     "output_type": "stream",
     "text": [
      "A:\n",
      " [[ 7  3 -1  2]\n",
      " [ 3  8  1 -4]\n",
      " [-1  1  4 -1]\n",
      " [ 2 -4 -1  6]]\n",
      "P:\n",
      " [[1. 0. 0. 0.]\n",
      " [0. 1. 0. 0.]\n",
      " [0. 0. 1. 0.]\n",
      " [0. 0. 0. 1.]]\n",
      "L:\n",
      " [[ 1.          0.          0.          0.        ]\n",
      " [ 0.42857143  1.          0.          0.        ]\n",
      " [-0.14285714  0.21276596  1.          0.        ]\n",
      " [ 0.28571429 -0.72340426  0.08982036  1.        ]]\n",
      "U:\n",
      " [[ 7.          3.         -1.          2.        ]\n",
      " [ 0.          6.71428571  1.42857143 -4.85714286]\n",
      " [ 0.          0.          3.55319149  0.31914894]\n",
      " [ 0.          0.          0.          1.88622754]]\n"
     ]
    }
   ],
   "source": [
    "A = np.array([ [7, 3, -1, 2], [3, 8, 1, -4], [-1, 1, 4, -1], [2, -4, -1, 6] ])\n",
    "P, L, U = sp.linalg.lu(A)\n",
    "print(\"A:\\n\",A)\n",
    "print(\"P:\\n\",P)\n",
    "print(\"L:\\n\",L)\n",
    "print(\"U:\\n\",U)"
   ]
  },
  {
   "cell_type": "markdown",
   "id": "3fcaad86",
   "metadata": {},
   "source": [
    "[Go to Index](#0)"
   ]
  },
  {
   "cell_type": "markdown",
   "id": "5e07e635",
   "metadata": {},
   "source": [
    "<a id='27' style=\"font-size: 28px\">12) Differentiation:</a>"
   ]
  },
  {
   "cell_type": "code",
   "execution_count": 78,
   "id": "4393b0e9",
   "metadata": {},
   "outputs": [
    {
     "data": {
      "text/latex": [
       "$\\displaystyle 36 x^{3}$"
      ],
      "text/plain": [
       "36*x**3"
      ]
     },
     "execution_count": 78,
     "metadata": {},
     "output_type": "execute_result"
    }
   ],
   "source": [
    "#Assigning 'x' as symbol\n",
    "x = sympy.Symbol('x')\n",
    "fx = 9*x**4 #function of symbol\n",
    "# differentiate once wrt x\n",
    "sympy.diff(fx,x)"
   ]
  },
  {
   "cell_type": "code",
   "execution_count": 79,
   "id": "01c90c0c",
   "metadata": {},
   "outputs": [
    {
     "data": {
      "text/latex": [
       "$\\displaystyle 108 x^{2}$"
      ],
      "text/plain": [
       "108*x**2"
      ]
     },
     "execution_count": 79,
     "metadata": {},
     "output_type": "execute_result"
    }
   ],
   "source": [
    "# differentiate twice wrt x\n",
    "x = sympy.Symbol('x')\n",
    "sympy.diff(fx,x,x)"
   ]
  },
  {
   "cell_type": "code",
   "execution_count": 80,
   "id": "6f42802e",
   "metadata": {},
   "outputs": [
    {
     "data": {
      "text/latex": [
       "$\\displaystyle 216 x$"
      ],
      "text/plain": [
       "216*x"
      ]
     },
     "execution_count": 80,
     "metadata": {},
     "output_type": "execute_result"
    }
   ],
   "source": [
    "# differentiate thrice wrt x\n",
    "x = sympy.Symbol('x')\n",
    "sympy.diff(fx,x,x,x)"
   ]
  },
  {
   "cell_type": "code",
   "execution_count": 81,
   "id": "8921823e",
   "metadata": {},
   "outputs": [
    {
     "data": {
      "text/latex": [
       "$\\displaystyle 4 x \\sin{\\left(x \\right)} + \\left(2 x^{2} + 2\\right) \\cos{\\left(x \\right)}$"
      ],
      "text/plain": [
       "4*x*sin(x) + (2*x**2 + 2)*cos(x)"
      ]
     },
     "execution_count": 81,
     "metadata": {},
     "output_type": "execute_result"
    }
   ],
   "source": [
    "#product rule for differentiation\n",
    "fx = sympy.sin(x)*(2*x**2+2)\n",
    "sympy.diff(fx)"
   ]
  },
  {
   "cell_type": "code",
   "execution_count": 82,
   "id": "e4eb970d",
   "metadata": {},
   "outputs": [
    {
     "data": {
      "text/latex": [
       "$\\displaystyle 45 x^{2} \\left(3 x^{3} - 8\\right)^{4}$"
      ],
      "text/plain": [
       "45*x**2*(3*x**3 - 8)**4"
      ]
     },
     "execution_count": 82,
     "metadata": {},
     "output_type": "execute_result"
    }
   ],
   "source": [
    "#chain rule for differentiation\n",
    "fx = (3*x**3-8)**5\n",
    "sympy.diff(fx)"
   ]
  },
  {
   "cell_type": "code",
   "execution_count": 83,
   "id": "8775f76b",
   "metadata": {},
   "outputs": [
    {
     "data": {
      "text/plain": [
       "(3*x**2, 12)"
      ]
     },
     "execution_count": 83,
     "metadata": {},
     "output_type": "execute_result"
    }
   ],
   "source": [
    "#to obtain value of differentiation at a given value of x=2\n",
    "fx = x**3\n",
    "diff_fx = sympy.diff(fx)\n",
    "diff_fx_x = sympy.lambdify(x,diff_fx)\n",
    "diff_fx, diff_fx_x(2)"
   ]
  },
  {
   "cell_type": "markdown",
   "id": "c5caa3b2",
   "metadata": {},
   "source": [
    "[Go to Index](#0)"
   ]
  },
  {
   "cell_type": "markdown",
   "id": "d0fa0b25",
   "metadata": {},
   "source": [
    "<a id='28' style=\"font-size: 28px\">13) Partial Differentiation:</a>"
   ]
  },
  {
   "cell_type": "code",
   "execution_count": 84,
   "id": "c0d0bb5c",
   "metadata": {},
   "outputs": [],
   "source": [
    "# declare both x and y as variables\n",
    "x, y, z = sympy.symbols('x y z')\n",
    "# declare a multi variate function\n",
    "fxy = 5*x**2*y**5"
   ]
  },
  {
   "cell_type": "code",
   "execution_count": 85,
   "id": "97c91d4a",
   "metadata": {},
   "outputs": [
    {
     "data": {
      "text/latex": [
       "$\\displaystyle 10 x y^{5}$"
      ],
      "text/plain": [
       "10*x*y**5"
      ]
     },
     "execution_count": 85,
     "metadata": {},
     "output_type": "execute_result"
    }
   ],
   "source": [
    "#Partial differentiation with respect to x\n",
    "sympy.diff(fxy,x)"
   ]
  },
  {
   "cell_type": "code",
   "execution_count": 86,
   "id": "58f74f7c",
   "metadata": {},
   "outputs": [
    {
     "data": {
      "text/latex": [
       "$\\displaystyle 25 x^{2} y^{4}$"
      ],
      "text/plain": [
       "25*x**2*y**4"
      ]
     },
     "execution_count": 86,
     "metadata": {},
     "output_type": "execute_result"
    }
   ],
   "source": [
    "#Partial differentiation with respect to y\n",
    "sympy.diff(fxy,y)"
   ]
  },
  {
   "cell_type": "code",
   "execution_count": 87,
   "id": "d92b6573",
   "metadata": {},
   "outputs": [
    {
     "data": {
      "text/latex": [
       "$\\displaystyle 50 x y^{4}$"
      ],
      "text/plain": [
       "50*x*y**4"
      ]
     },
     "execution_count": 87,
     "metadata": {},
     "output_type": "execute_result"
    }
   ],
   "source": [
    "# first partial diff wrt x and then wrt y\n",
    "sympy.diff(fxy,x,y)"
   ]
  },
  {
   "cell_type": "code",
   "execution_count": 88,
   "id": "623145d6",
   "metadata": {},
   "outputs": [
    {
     "data": {
      "text/latex": [
       "$\\displaystyle 200 x y^{3}$"
      ],
      "text/plain": [
       "200*x*y**3"
      ]
     },
     "execution_count": 88,
     "metadata": {},
     "output_type": "execute_result"
    }
   ],
   "source": [
    "# first partial diff wrt x and then wrt y and then again wrt y\n",
    "sympy.diff(fxy,x,y,y)"
   ]
  },
  {
   "cell_type": "code",
   "execution_count": 89,
   "id": "ef61bf70",
   "metadata": {},
   "outputs": [
    {
     "data": {
      "text/latex": [
       "$\\displaystyle 0$"
      ],
      "text/plain": [
       "0"
      ]
     },
     "execution_count": 89,
     "metadata": {},
     "output_type": "execute_result"
    }
   ],
   "source": [
    "#partial differentiation with respect to z will give 0 as output when function doesn't contain z\n",
    "sympy.diff(fxy,z)"
   ]
  },
  {
   "cell_type": "code",
   "execution_count": 90,
   "id": "15bb1efa",
   "metadata": {},
   "outputs": [
    {
     "data": {
      "text/plain": [
       "(120*x**2*y*z**3, 120)"
      ]
     },
     "execution_count": 90,
     "metadata": {},
     "output_type": "execute_result"
    }
   ],
   "source": [
    "#to obtain value of differentiation at a given value of x,y,z = (1,1,1)\n",
    "x, y, z = sympy.symbols('x y z')\n",
    "fxyz = 5 * z**4 * x**3 * y**2\n",
    "diff_fxyz = sympy.diff(fxyz,x,y,z)\n",
    "diff_fxyz_xyz = sympy.lambdify([x,y,z],diff_fxyz)\n",
    "diff_fxyz, diff_fxyz_xyz(1,1,1)"
   ]
  },
  {
   "cell_type": "markdown",
   "id": "cfc59d17",
   "metadata": {},
   "source": [
    "[Go to Index](#0)"
   ]
  },
  {
   "cell_type": "markdown",
   "id": "7ed33b0f",
   "metadata": {},
   "source": [
    "<a id='32' style=\"font-size: 28px\">14) Lagrange Multiplier:</a>"
   ]
  },
  {
   "cell_type": "code",
   "execution_count": 91,
   "id": "d7496e33",
   "metadata": {},
   "outputs": [
    {
     "data": {
      "text/plain": [
       "[(-3/5, -4/5, 5), (3/5, 4/5, -5)]"
      ]
     },
     "execution_count": 91,
     "metadata": {},
     "output_type": "execute_result"
    }
   ],
   "source": [
    "x,y,z = sympy.symbols('x y z')\n",
    "fxy = 6*x+8*y\n",
    "gxy = x**2+y**2-1\n",
    "H = fxy+z*gxy\n",
    "diff_Hx = sympy.diff(H,x)\n",
    "diff_Hy = sympy.diff(H,y)\n",
    "diff_Hz = sympy.diff(H,z)\n",
    "diff_Hx_xyz = sympy.lambdify([x,y,z], diff_Hx)\n",
    "diff_Hy_xyz = sympy.lambdify([x,y,z], diff_Hy)\n",
    "diff_Hz_xyz = sympy.lambdify([x,y,z], diff_Hz)\n",
    "sympy.solve([diff_Hx, diff_Hy, diff_Hz], [x,y,z], simplify=False)"
   ]
  },
  {
   "cell_type": "code",
   "execution_count": 92,
   "id": "a71cf09e",
   "metadata": {},
   "outputs": [
    {
     "data": {
      "text/plain": [
       "((-10.0, 0.0), (10.0, 0.0))"
      ]
     },
     "execution_count": 92,
     "metadata": {},
     "output_type": "execute_result"
    }
   ],
   "source": [
    "F = sympy.lambdify([x,y], fxy)\n",
    "G = sympy.lambdify([x,y], gxy)\n",
    "(F(-3/5,-4/5),G(-3/5,-4/5)),(F(3/5,4/5),G(3/5,4/5))"
   ]
  },
  {
   "cell_type": "markdown",
   "id": "dd4d9c11",
   "metadata": {},
   "source": [
    "[Go to Index](#0)"
   ]
  },
  {
   "cell_type": "markdown",
   "id": "a8d30cbd",
   "metadata": {},
   "source": [
    "<a id='29' style=\"font-size: 28px\">15) Gradient Descent:</a>"
   ]
  },
  {
   "cell_type": "code",
   "execution_count": 93,
   "id": "2420bca7",
   "metadata": {},
   "outputs": [
    {
     "data": {
      "text/html": [
       "<div>\n",
       "<style scoped>\n",
       "    .dataframe tbody tr th:only-of-type {\n",
       "        vertical-align: middle;\n",
       "    }\n",
       "\n",
       "    .dataframe tbody tr th {\n",
       "        vertical-align: top;\n",
       "    }\n",
       "\n",
       "    .dataframe thead th {\n",
       "        text-align: right;\n",
       "    }\n",
       "</style>\n",
       "<table border=\"1\" class=\"dataframe\">\n",
       "  <thead>\n",
       "    <tr style=\"text-align: right;\">\n",
       "      <th></th>\n",
       "      <th>Iteration</th>\n",
       "      <th>Updated x</th>\n",
       "      <th>Gradient at x</th>\n",
       "      <th>f(x)</th>\n",
       "    </tr>\n",
       "  </thead>\n",
       "  <tbody>\n",
       "    <tr>\n",
       "      <th>0</th>\n",
       "      <td>0</td>\n",
       "      <td>5.000000</td>\n",
       "      <td>10.000000</td>\n",
       "      <td>28.000000</td>\n",
       "    </tr>\n",
       "    <tr>\n",
       "      <th>1</th>\n",
       "      <td>1</td>\n",
       "      <td>4.800000</td>\n",
       "      <td>9.600000</td>\n",
       "      <td>26.040000</td>\n",
       "    </tr>\n",
       "    <tr>\n",
       "      <th>2</th>\n",
       "      <td>2</td>\n",
       "      <td>4.608000</td>\n",
       "      <td>9.216000</td>\n",
       "      <td>24.233664</td>\n",
       "    </tr>\n",
       "    <tr>\n",
       "      <th>3</th>\n",
       "      <td>3</td>\n",
       "      <td>4.423680</td>\n",
       "      <td>8.847360</td>\n",
       "      <td>22.568945</td>\n",
       "    </tr>\n",
       "    <tr>\n",
       "      <th>4</th>\n",
       "      <td>4</td>\n",
       "      <td>4.246733</td>\n",
       "      <td>8.493466</td>\n",
       "      <td>21.034739</td>\n",
       "    </tr>\n",
       "    <tr>\n",
       "      <th>...</th>\n",
       "      <td>...</td>\n",
       "      <td>...</td>\n",
       "      <td>...</td>\n",
       "      <td>...</td>\n",
       "    </tr>\n",
       "    <tr>\n",
       "      <th>195</th>\n",
       "      <td>195</td>\n",
       "      <td>0.001745</td>\n",
       "      <td>0.003491</td>\n",
       "      <td>3.000003</td>\n",
       "    </tr>\n",
       "    <tr>\n",
       "      <th>196</th>\n",
       "      <td>196</td>\n",
       "      <td>0.001675</td>\n",
       "      <td>0.003351</td>\n",
       "      <td>3.000003</td>\n",
       "    </tr>\n",
       "    <tr>\n",
       "      <th>197</th>\n",
       "      <td>197</td>\n",
       "      <td>0.001608</td>\n",
       "      <td>0.003217</td>\n",
       "      <td>3.000003</td>\n",
       "    </tr>\n",
       "    <tr>\n",
       "      <th>198</th>\n",
       "      <td>198</td>\n",
       "      <td>0.001544</td>\n",
       "      <td>0.003088</td>\n",
       "      <td>3.000002</td>\n",
       "    </tr>\n",
       "    <tr>\n",
       "      <th>199</th>\n",
       "      <td>199</td>\n",
       "      <td>0.001482</td>\n",
       "      <td>0.002965</td>\n",
       "      <td>3.000002</td>\n",
       "    </tr>\n",
       "  </tbody>\n",
       "</table>\n",
       "<p>200 rows × 4 columns</p>\n",
       "</div>"
      ],
      "text/plain": [
       "     Iteration  Updated x  Gradient at x       f(x)\n",
       "0            0   5.000000      10.000000  28.000000\n",
       "1            1   4.800000       9.600000  26.040000\n",
       "2            2   4.608000       9.216000  24.233664\n",
       "3            3   4.423680       8.847360  22.568945\n",
       "4            4   4.246733       8.493466  21.034739\n",
       "..         ...        ...            ...        ...\n",
       "195        195   0.001745       0.003491   3.000003\n",
       "196        196   0.001675       0.003351   3.000003\n",
       "197        197   0.001608       0.003217   3.000003\n",
       "198        198   0.001544       0.003088   3.000002\n",
       "199        199   0.001482       0.002965   3.000002\n",
       "\n",
       "[200 rows x 4 columns]"
      ]
     },
     "execution_count": 93,
     "metadata": {},
     "output_type": "execute_result"
    }
   ],
   "source": [
    "#obraining function minima using gradiend descent.\n",
    "x = sympy.Symbol('x')\n",
    "fx = x**2+3\n",
    "fx_x = sympy.lambdify(x,fx)\n",
    "diff_fx = sympy.diff(fx,x)\n",
    "diff_fx_x = sympy.lambdify(x,diff_fx)\n",
    "alpha = 0.02\n",
    "x=5\n",
    "x_list = []\n",
    "i_list = []\n",
    "fx_list = []\n",
    "diff_x_list = []\n",
    "for i in range(200):\n",
    "    i_list.append(i)\n",
    "    x_list.append(x)\n",
    "    fx_list.append(fx_x(x))\n",
    "    diff_x_list.append(diff_fx_x(x))\n",
    "    x = x - alpha*diff_fx_x(x)\n",
    "pd.DataFrame({'Iteration':i_list,'Updated x':x_list, 'Gradient at x':diff_x_list, 'f(x)':fx_list})"
   ]
  },
  {
   "cell_type": "code",
   "execution_count": 94,
   "id": "f13c0465",
   "metadata": {
    "scrolled": true
   },
   "outputs": [
    {
     "name": "stdout",
     "output_type": "stream",
     "text": [
      "0 2.02 -202 0.58 -58\n",
      "1 1.6904 32.96 0.6576 -7.759999999999998\n",
      "2 1.7063 -1.588799999999999 0.8 -14.2352\n",
      "3 1.6734 3.2929999999999957 0.9246 -12.4614\n",
      "4 1.6492 2.4152000000000022 1.044 -11.9392\n",
      "5 1.6254 2.3800000000000168 1.1568 -11.277599999999998\n",
      "6 1.603 2.24359999999999 1.2635 -10.673200000000001\n",
      "7 1.5817 2.127000000000006 1.3645 -10.098999999999998\n",
      "8 1.5616 2.0060000000000002 1.4601 -9.5576\n",
      "9 1.5426 1.8982000000000028 1.5505 -9.0438\n",
      "10 1.5246 1.7970000000000077 1.6361 -8.557799999999999\n",
      "11 1.5076 1.7002000000000024 1.7171 -8.0978\n",
      "12 1.4915 1.612200000000012 1.7937 -7.661799999999996\n",
      "13 1.4762 1.526400000000013 1.8662 -7.249999999999997\n",
      "14 1.4618 1.4383999999999872 1.9348 -6.861600000000002\n",
      "15 1.4482 1.3636000000000017 1.9997 -6.492399999999999\n",
      "16 1.4352 1.2953999999999972 2.0611 -6.142600000000002\n",
      "17 1.423 1.216199999999997 2.1192 -5.8146\n",
      "18 1.4115 1.1524000000000179 2.1742 -5.501999999999995\n",
      "19 1.4005 1.0973999999999968 2.2262 -5.205000000000001\n",
      "20 1.3902 1.031400000000005 2.2755 -4.927\n",
      "21 1.3804 0.9830000000000219 2.3221 -4.660599999999995\n",
      "22 1.3711 0.9302000000000028 2.3662 -4.410200000000001\n",
      "23 1.3623 0.8774000000000015 2.4079 -4.173799999999999\n",
      "24 1.354 0.8268000000000058 2.4474 -3.9503999999999984\n",
      "25 1.3462 0.7828000000000195 2.4848 -3.737999999999996\n",
      "26 1.3387 0.747600000000002 2.5202 -3.5355999999999996\n",
      "27 1.3317 0.7013999999999925 2.5537 -3.3466000000000014\n",
      "28 1.325 0.6683999999999983 2.5854 -3.1656000000000004\n",
      "29 1.3187 0.6287999999999947 2.6154 -2.9960000000000013\n",
      "30 1.3127 0.5958000000000006 2.6437 -2.834599999999999\n",
      "31 1.3071 0.5583999999999989 2.6705 -2.683600000000001\n",
      "32 1.3018 0.5319999999999823 2.6959 -2.5388000000000037\n",
      "33 1.2967 0.5078000000000067 2.7199 -2.401399999999999\n",
      "34 1.292 0.47479999999998057 2.7426 -2.2736000000000036\n",
      "35 1.2874 0.4572000000000145 2.7641 -2.149999999999997\n",
      "36 1.2832 0.4242000000000097 2.7845 -2.0361999999999982\n",
      "37 1.2791 0.4109999999999907 2.8037 -1.9246000000000008\n",
      "38 1.2753 0.38239999999998986 2.8219 -1.8228000000000018\n",
      "39 1.2717 0.36479999999999535 2.8391 -1.724400000000002\n",
      "40 1.2682 0.3472000000000186 2.8554 -1.6315999999999953\n",
      "41 1.265 0.3208000000000091 2.8709 -1.5455999999999985\n",
      "42 1.2619 0.3097999999999743 2.8855 -1.4610000000000065\n",
      "43 1.259 0.29000000000000625 2.8993 -1.3831999999999987\n",
      "44 1.2563 0.27459999999999596 2.9124 -1.3089999999999993\n",
      "45 1.2536 0.2657999999999916 2.9248 -1.2374000000000027\n",
      "46 1.2512 0.24159999999999826 2.9365 -1.1728000000000014\n",
      "47 1.2488 0.2350000000000172 2.9476 -1.1085999999999956\n",
      "48 1.2466 0.21519999999998518 2.9581 -1.0504000000000033\n",
      "49 1.2446 0.2041999999999824 2.968 -0.9938000000000038\n",
      "\n",
      "w: 1.2446  b: 2.968\n"
     ]
    }
   ],
   "source": [
    "x = pd.Series([-2,1,3,4,5])\n",
    "y = pd.Series([2,3,5,8,11])\n",
    "df = pd.DataFrame({'x':x,'y':y})\n",
    "\n",
    "x, y, w, b = sympy.symbols('x y w b')\n",
    "\n",
    "# Regression Cost Function\n",
    "# SSE = (y - (wx + b))**2\n",
    "cf = (y - w*x -b)**2\n",
    "\n",
    "# partial derivative wrt w & b\n",
    "cf_w = sympy.diff(cf, w)\n",
    "cf_b = sympy.diff(cf, b)\n",
    "CF_w = sympy.lambdify([x,y,w,b], cf_w)\n",
    "CF_b = sympy.lambdify([x,y,w,b], cf_b)\n",
    "\n",
    "#defining a function to calculate the gradient of w & b\n",
    "def comput_grads(w,b):\n",
    "    grad_w,grad_b = 0,0\n",
    "    for i in range(df.shape[0]):\n",
    "        grad_w += CF_w(df.x[i],df.y[i],w,b) #updating gradient of w with each observation\n",
    "        grad_b += CF_b(df.x[i],df.y[i],w,b) #updating gradient of b with each observation\n",
    "    return(grad_w,grad_b)\n",
    "\n",
    "w,b = 0,0                                   #giving initial values for w and b\n",
    "alpha = 0.01                                #learning rate\n",
    "for trial in range(50):                     #iterative calculation for w & b 50 times.\n",
    "    grad_w, grad_b = comput_grads(w,b)      #calculating gradient of w & b\n",
    "    w = np.round(w - alpha*grad_w, 4)       #updating value of w\n",
    "    b = np.round(b - alpha*grad_b, 4)       #updating value of b\n",
    "    print(trial,w,grad_w,b,grad_b)\n",
    "print(\"\\nw:\",w, \" b:\",b)"
   ]
  },
  {
   "cell_type": "markdown",
   "id": "cbe308f3",
   "metadata": {},
   "source": [
    "[Go to Index](#0)"
   ]
  },
  {
   "cell_type": "markdown",
   "id": "8388ecc2",
   "metadata": {},
   "source": [
    "<a id='30' style=\"font-size: 28px\">16) Newton's Function:</a>"
   ]
  },
  {
   "cell_type": "code",
   "execution_count": 95,
   "id": "79a37c0b",
   "metadata": {},
   "outputs": [
    {
     "name": "stdout",
     "output_type": "stream",
     "text": [
      "f(x) becomes zero at x = 2.0\n"
     ]
    },
    {
     "data": {
      "text/html": [
       "<div>\n",
       "<style scoped>\n",
       "    .dataframe tbody tr th:only-of-type {\n",
       "        vertical-align: middle;\n",
       "    }\n",
       "\n",
       "    .dataframe tbody tr th {\n",
       "        vertical-align: top;\n",
       "    }\n",
       "\n",
       "    .dataframe thead th {\n",
       "        text-align: right;\n",
       "    }\n",
       "</style>\n",
       "<table border=\"1\" class=\"dataframe\">\n",
       "  <thead>\n",
       "    <tr style=\"text-align: right;\">\n",
       "      <th></th>\n",
       "      <th>Iteration</th>\n",
       "      <th>Updated x</th>\n",
       "      <th>Slope at x</th>\n",
       "      <th>f(x)</th>\n",
       "    </tr>\n",
       "  </thead>\n",
       "  <tbody>\n",
       "    <tr>\n",
       "      <th>0</th>\n",
       "      <td>0</td>\n",
       "      <td>1000.000000</td>\n",
       "      <td>2000.000000</td>\n",
       "      <td>9.999960e+05</td>\n",
       "    </tr>\n",
       "    <tr>\n",
       "      <th>1</th>\n",
       "      <td>1</td>\n",
       "      <td>500.002000</td>\n",
       "      <td>1000.004000</td>\n",
       "      <td>2.499980e+05</td>\n",
       "    </tr>\n",
       "    <tr>\n",
       "      <th>2</th>\n",
       "      <td>2</td>\n",
       "      <td>250.005000</td>\n",
       "      <td>500.010000</td>\n",
       "      <td>6.249850e+04</td>\n",
       "    </tr>\n",
       "    <tr>\n",
       "      <th>3</th>\n",
       "      <td>3</td>\n",
       "      <td>125.010500</td>\n",
       "      <td>250.021000</td>\n",
       "      <td>1.562363e+04</td>\n",
       "    </tr>\n",
       "    <tr>\n",
       "      <th>4</th>\n",
       "      <td>4</td>\n",
       "      <td>62.521249</td>\n",
       "      <td>125.042497</td>\n",
       "      <td>3.904907e+03</td>\n",
       "    </tr>\n",
       "    <tr>\n",
       "      <th>5</th>\n",
       "      <td>5</td>\n",
       "      <td>31.292613</td>\n",
       "      <td>62.585227</td>\n",
       "      <td>9.752277e+02</td>\n",
       "    </tr>\n",
       "    <tr>\n",
       "      <th>6</th>\n",
       "      <td>6</td>\n",
       "      <td>15.710220</td>\n",
       "      <td>31.420439</td>\n",
       "      <td>2.428110e+02</td>\n",
       "    </tr>\n",
       "    <tr>\n",
       "      <th>7</th>\n",
       "      <td>7</td>\n",
       "      <td>7.982415</td>\n",
       "      <td>15.964831</td>\n",
       "      <td>5.971896e+01</td>\n",
       "    </tr>\n",
       "    <tr>\n",
       "      <th>8</th>\n",
       "      <td>8</td>\n",
       "      <td>4.241758</td>\n",
       "      <td>8.483517</td>\n",
       "      <td>1.399251e+01</td>\n",
       "    </tr>\n",
       "    <tr>\n",
       "      <th>9</th>\n",
       "      <td>9</td>\n",
       "      <td>2.592382</td>\n",
       "      <td>5.184764</td>\n",
       "      <td>2.720443e+00</td>\n",
       "    </tr>\n",
       "    <tr>\n",
       "      <th>10</th>\n",
       "      <td>10</td>\n",
       "      <td>2.067682</td>\n",
       "      <td>4.135364</td>\n",
       "      <td>2.753097e-01</td>\n",
       "    </tr>\n",
       "    <tr>\n",
       "      <th>11</th>\n",
       "      <td>11</td>\n",
       "      <td>2.001108</td>\n",
       "      <td>4.002215</td>\n",
       "      <td>4.432159e-03</td>\n",
       "    </tr>\n",
       "    <tr>\n",
       "      <th>12</th>\n",
       "      <td>12</td>\n",
       "      <td>2.000000</td>\n",
       "      <td>4.000001</td>\n",
       "      <td>1.226393e-06</td>\n",
       "    </tr>\n",
       "    <tr>\n",
       "      <th>13</th>\n",
       "      <td>13</td>\n",
       "      <td>2.000000</td>\n",
       "      <td>4.000000</td>\n",
       "      <td>9.414691e-14</td>\n",
       "    </tr>\n",
       "    <tr>\n",
       "      <th>14</th>\n",
       "      <td>14</td>\n",
       "      <td>2.000000</td>\n",
       "      <td>4.000000</td>\n",
       "      <td>0.000000e+00</td>\n",
       "    </tr>\n",
       "  </tbody>\n",
       "</table>\n",
       "</div>"
      ],
      "text/plain": [
       "    Iteration    Updated x   Slope at x          f(x)\n",
       "0           0  1000.000000  2000.000000  9.999960e+05\n",
       "1           1   500.002000  1000.004000  2.499980e+05\n",
       "2           2   250.005000   500.010000  6.249850e+04\n",
       "3           3   125.010500   250.021000  1.562363e+04\n",
       "4           4    62.521249   125.042497  3.904907e+03\n",
       "5           5    31.292613    62.585227  9.752277e+02\n",
       "6           6    15.710220    31.420439  2.428110e+02\n",
       "7           7     7.982415    15.964831  5.971896e+01\n",
       "8           8     4.241758     8.483517  1.399251e+01\n",
       "9           9     2.592382     5.184764  2.720443e+00\n",
       "10         10     2.067682     4.135364  2.753097e-01\n",
       "11         11     2.001108     4.002215  4.432159e-03\n",
       "12         12     2.000000     4.000001  1.226393e-06\n",
       "13         13     2.000000     4.000000  9.414691e-14\n",
       "14         14     2.000000     4.000000  0.000000e+00"
      ]
     },
     "execution_count": 95,
     "metadata": {},
     "output_type": "execute_result"
    }
   ],
   "source": [
    "x = sympy.Symbol('x')\n",
    "fx=x**2-4\n",
    "diff_fx = sympy.diff(fx,x)\n",
    "fx_x = sympy.lambdify(x,fx)\n",
    "diff_fx_x = sympy.lambdify(x,diff_fx)\n",
    "x = 1000\n",
    "x_list = []\n",
    "i_list = []\n",
    "fx_list = []\n",
    "diff_x_list = []\n",
    "for i in range(15):\n",
    "    i_list.append(i)\n",
    "    x_list.append(x)\n",
    "    fx_list.append(fx_x(x))\n",
    "    diff_x_list.append(diff_fx_x(x))\n",
    "    x = x-fx_x(x)/diff_fx_x(x)\n",
    "print(\"f(x) becomes zero at x =\",x)\n",
    "pd.DataFrame({'Iteration':i_list,'Updated x':x_list, 'Slope at x':diff_x_list, 'f(x)':fx_list})"
   ]
  },
  {
   "cell_type": "markdown",
   "id": "ab9f957e",
   "metadata": {},
   "source": [
    "[Go to Index](#0)"
   ]
  },
  {
   "cell_type": "markdown",
   "id": "8e56982a",
   "metadata": {},
   "source": [
    "<a id='33' style=\"font-size: 28px\">17) Null Space, Row Space & Column Space:</a>"
   ]
  },
  {
   "cell_type": "code",
   "execution_count": 96,
   "id": "d4d0d052",
   "metadata": {},
   "outputs": [
    {
     "name": "stdout",
     "output_type": "stream",
     "text": [
      "Null Space of a matrix : [Matrix([\n",
      "[-5/2],\n",
      "[-3/2],\n",
      "[   1]])]\n",
      "\n",
      "Column Space of a matrix : [Matrix([\n",
      "[ 1],\n",
      "[-5]]), Matrix([\n",
      "[-3],\n",
      "[ 9]])]\n",
      "\n",
      "Row Space of a matrix : [Matrix([[1, -3, -2]]), Matrix([[0, -6, -9]])]\n"
     ]
    }
   ],
   "source": [
    "M = sympy.Matrix([[1,-3,-2],[-5,9,1]])\n",
    "M_nullspace = M.nullspace()\n",
    "M_colspace = M.columnspace()\n",
    "M_rowspace = M.rowspace()\n",
    "print(\"Null Space of a matrix :\",M_nullspace)\n",
    "print(\"\\nColumn Space of a matrix :\",M_colspace)\n",
    "print(\"\\nRow Space of a matrix :\",M_rowspace)"
   ]
  },
  {
   "cell_type": "markdown",
   "id": "42752f7f",
   "metadata": {},
   "source": [
    "[Go to Index](#0)"
   ]
  },
  {
   "cell_type": "markdown",
   "id": "9b200264",
   "metadata": {},
   "source": [
    "<a id='34' style=\"font-size: 28px\">18) Jacobian matrix & Determinant:</a>"
   ]
  },
  {
   "cell_type": "code",
   "execution_count": 97,
   "id": "0ee8d9f1",
   "metadata": {},
   "outputs": [
    {
     "data": {
      "text/plain": [
       "(matrix([[10*x*y**5, 25*x**2*y**4],\n",
       "         [8*x**3*y**3, 6*x**4*y**2]], dtype=object),\n",
       " -140*x**5*y**7)"
      ]
     },
     "execution_count": 97,
     "metadata": {},
     "output_type": "execute_result"
    }
   ],
   "source": [
    "# declare both x and y as variables\n",
    "x, y = sympy.symbols('x y')\n",
    "# declare a multi variate function\n",
    "f1 = 5*x**2*y**5\n",
    "f2 = 2*x**4*y**3\n",
    "M = np.matrix([[sympy.diff(f1,x),sympy.diff(f1,y)],[sympy.diff(f2,x),sympy.diff(f2,y)]])\n",
    "D = M[0,0]*M[1,1]-M[0,1]*M[1,0]\n",
    "M, D"
   ]
  },
  {
   "cell_type": "markdown",
   "id": "72f987ab",
   "metadata": {},
   "source": [
    "[Go to Index](#0)"
   ]
  }
 ],
 "metadata": {
  "kernelspec": {
   "display_name": "Python 3",
   "language": "python",
   "name": "python3"
  },
  "language_info": {
   "codemirror_mode": {
    "name": "ipython",
    "version": 3
   },
   "file_extension": ".py",
   "mimetype": "text/x-python",
   "name": "python",
   "nbconvert_exporter": "python",
   "pygments_lexer": "ipython3",
   "version": "3.8.8"
  }
 },
 "nbformat": 4,
 "nbformat_minor": 5
}
